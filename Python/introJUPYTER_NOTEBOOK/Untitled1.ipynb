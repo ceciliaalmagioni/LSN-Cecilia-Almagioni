{
 "cells": [
  {
   "cell_type": "code",
   "execution_count": 1,
   "id": "04bc407f-cbb0-49b5-8a23-b74956daaaea",
   "metadata": {},
   "outputs": [],
   "source": [
    "a = \"Hello word!\""
   ]
  },
  {
   "cell_type": "code",
   "execution_count": 6,
   "id": "c6909c51-d941-4437-8e6c-c8caa747a65b",
   "metadata": {},
   "outputs": [
    {
     "name": "stdout",
     "output_type": "stream",
     "text": [
      "Hello word!\n"
     ]
    }
   ],
   "source": [
    "print(a)"
   ]
  },
  {
   "cell_type": "code",
   "execution_count": null,
   "id": "396e44c5-f957-4363-9a42-d83039c8a4e6",
   "metadata": {},
   "outputs": [],
   "source": []
  }
 ],
 "metadata": {
  "kernelspec": {
   "display_name": "Python 3 (ipykernel)",
   "language": "python",
   "name": "python3"
  },
  "language_info": {
   "codemirror_mode": {
    "name": "ipython",
    "version": 3
   },
   "file_extension": ".py",
   "mimetype": "text/x-python",
   "name": "python",
   "nbconvert_exporter": "python",
   "pygments_lexer": "ipython3",
   "version": "3.9.13"
  }
 },
 "nbformat": 4,
 "nbformat_minor": 5
}
